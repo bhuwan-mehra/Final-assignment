{
 "cells": [
  {
   "cell_type": "markdown",
   "id": "b6299530-f3a3-4246-80ca-179a3dfd9563",
   "metadata": {},
   "source": [
    "# Data Science Tools and Ecosytem"
   ]
  },
  {
   "cell_type": "markdown",
   "id": "e40da06a-0e88-4e56-80a9-dde7ce9e34db",
   "metadata": {},
   "source": [
    "`Introduction`"
   ]
  },
  {
   "cell_type": "markdown",
   "id": "f8b2ec2b-c4f3-4d83-854d-56aae70982e8",
   "metadata": {},
   "source": [
    "In this notebook,Data Science Tools and Ecosystem are summarized"
   ]
  },
  {
   "cell_type": "markdown",
   "id": "2f92f737-326c-414a-9c6b-57f74499cdb5",
   "metadata": {},
   "source": [
    "`Some of the popular languages that Data Scientists use are:`<br> \n",
    "1. Python\n",
    "2. Sql\n",
    "3. R\n",
    "4. Java Script\n",
    "5. Scala"
   ]
  },
  {
   "cell_type": "markdown",
   "id": "5a141ed9-bed0-49e4-be11-2b78c8a3c88f",
   "metadata": {},
   "source": [
    "`Some of the commonly used libraries used by Data Scientists include:`\n",
    "1. NumPy\n",
    "2. Pandas\n",
    "3. Matplotlib\n",
    "4. SciKit-Learn\n",
    "5. TenserFlow\n",
    "6. PyTorch\n"
   ]
  },
  {
   "cell_type": "markdown",
   "id": "a5e5ff81-7cd7-4d21-bdd1-14262744fe81",
   "metadata": {},
   "source": [
    "|Data Science Tools|\n",
    "|:-|\n",
    "|Apache Hadoop|\n",
    "|Apache Spark|\n",
    "|Knime|\n"
   ]
  },
  {
   "cell_type": "markdown",
   "id": "54fb6fca-662e-4dd8-b2cf-03ec607882ae",
   "metadata": {},
   "source": [
    "### `Below are a few examples of evaluating arithmetic expressions in python`"
   ]
  },
  {
   "cell_type": "code",
   "execution_count": 3,
   "id": "50296907-212c-45de-91e5-b8c457ad51ba",
   "metadata": {},
   "outputs": [
    {
     "name": "stdout",
     "output_type": "stream",
     "text": [
      "0\n"
     ]
    }
   ],
   "source": [
    "a= 1;\n",
    "b= 1;\n",
    "c= a-b;\n",
    "print(c);"
   ]
  },
  {
   "cell_type": "markdown",
   "id": "53c5d2d0-2c68-4872-9b63-ee57645d750a",
   "metadata": {},
   "source": [
    "#### `This is a simple expression which follows BDOMAS rule`  \n"
   ]
  },
  {
   "cell_type": "code",
   "execution_count": 6,
   "id": "8c50ac11-9204-4376-b7fa-6f8cf6ebd6be",
   "metadata": {},
   "outputs": [
    {
     "name": "stdout",
     "output_type": "stream",
     "text": [
      "9.0\n"
     ]
    }
   ],
   "source": [
    "sum =8/4+2*2+6/2;\n",
    "print(sum);"
   ]
  },
  {
   "cell_type": "markdown",
   "id": "5c2298ff-769e-41bf-99ef-b8df62a44c87",
   "metadata": {},
   "source": [
    "#### `This code will convert 200 minutes to hours by dividing minutes by 60`"
   ]
  },
  {
   "cell_type": "code",
   "execution_count": 7,
   "id": "a0b4b110-3208-4e59-9cc1-a95e827689a6",
   "metadata": {},
   "outputs": [
    {
     "name": "stdout",
     "output_type": "stream",
     "text": [
      "3.3333333333333335\n"
     ]
    }
   ],
   "source": [
    "minute=200;\n",
    "hour=minute/60;\n",
    "print(hour);"
   ]
  },
  {
   "cell_type": "markdown",
   "id": "d24dac8f-f5c3-459d-b480-39f66de34bc9",
   "metadata": {},
   "source": [
    "**Objectives:**\n",
    "- Introduction to Data Science\n",
    "    - Data is key asset for data science  \n",
    "- List of popular Data Science languages\n",
    "    - Python\n",
    "    - Sql\n",
    "    - Java\n",
    "- Fully visual developement softwares\n",
    "    - IBM Watson Studio\n",
    "    - R-Studio\n",
    "- Popular frameworks\n",
    "    - TenserFlow.js\n",
    "    - node.js\n",
    "- What are Model Building in Data Science\n",
    "    - Cloud resource for Data Science"
   ]
  },
  {
   "cell_type": "markdown",
   "id": "bae97a7c-ec86-47c0-87f1-37556eded96b",
   "metadata": {},
   "source": [
    "## `Author"
   ]
  }
 ],
 "metadata": {
  "kernelspec": {
   "display_name": "Python",
   "language": "python",
   "name": "conda-env-python-py"
  },
  "language_info": {
   "codemirror_mode": {
    "name": "ipython",
    "version": 3
   },
   "file_extension": ".py",
   "mimetype": "text/x-python",
   "name": "python",
   "nbconvert_exporter": "python",
   "pygments_lexer": "ipython3",
   "version": "3.7.12"
  }
 },
 "nbformat": 4,
 "nbformat_minor": 5
}
